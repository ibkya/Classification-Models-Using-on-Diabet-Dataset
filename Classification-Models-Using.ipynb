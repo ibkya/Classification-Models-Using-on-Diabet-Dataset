{
 "cells": [
  {
   "cell_type": "code",
   "execution_count": 1,
   "metadata": {},
   "outputs": [],
   "source": [
    "import numpy as np\n",
    "import pandas as pd \n",
    "import statsmodels.api as sm\n",
    "import statsmodels.formula.api as smf\n",
    "import seaborn as sns\n",
    "from sklearn.preprocessing import scale \n",
    "from sklearn.model_selection import train_test_split, GridSearchCV, cross_val_score\n",
    "from sklearn.metrics import confusion_matrix, accuracy_score, classification_report\n",
    "from sklearn.metrics import roc_auc_score,roc_curve\n",
    "import statsmodels.formula.api as smf\n",
    "import matplotlib.pyplot as plt\n",
    "from warnings import filterwarnings\n",
    "filterwarnings('ignore')"
   ]
  },
  {
   "cell_type": "markdown",
   "metadata": {},
   "source": [
    "# Lojistik Regresyon Modeli"
   ]
  },
  {
   "cell_type": "code",
   "execution_count": 2,
   "metadata": {},
   "outputs": [
    {
     "data": {
      "text/html": [
       "<div>\n",
       "<style scoped>\n",
       "    .dataframe tbody tr th:only-of-type {\n",
       "        vertical-align: middle;\n",
       "    }\n",
       "\n",
       "    .dataframe tbody tr th {\n",
       "        vertical-align: top;\n",
       "    }\n",
       "\n",
       "    .dataframe thead th {\n",
       "        text-align: right;\n",
       "    }\n",
       "</style>\n",
       "<table border=\"1\" class=\"dataframe\">\n",
       "  <thead>\n",
       "    <tr style=\"text-align: right;\">\n",
       "      <th></th>\n",
       "      <th>Pregnancies</th>\n",
       "      <th>Glucose</th>\n",
       "      <th>BloodPressure</th>\n",
       "      <th>SkinThickness</th>\n",
       "      <th>Insulin</th>\n",
       "      <th>BMI</th>\n",
       "      <th>DiabetesPedigreeFunction</th>\n",
       "      <th>Age</th>\n",
       "      <th>Outcome</th>\n",
       "    </tr>\n",
       "  </thead>\n",
       "  <tbody>\n",
       "    <tr>\n",
       "      <th>0</th>\n",
       "      <td>6</td>\n",
       "      <td>148</td>\n",
       "      <td>72</td>\n",
       "      <td>35</td>\n",
       "      <td>0</td>\n",
       "      <td>33.6</td>\n",
       "      <td>0.627</td>\n",
       "      <td>50</td>\n",
       "      <td>1</td>\n",
       "    </tr>\n",
       "    <tr>\n",
       "      <th>1</th>\n",
       "      <td>1</td>\n",
       "      <td>85</td>\n",
       "      <td>66</td>\n",
       "      <td>29</td>\n",
       "      <td>0</td>\n",
       "      <td>26.6</td>\n",
       "      <td>0.351</td>\n",
       "      <td>31</td>\n",
       "      <td>0</td>\n",
       "    </tr>\n",
       "    <tr>\n",
       "      <th>2</th>\n",
       "      <td>8</td>\n",
       "      <td>183</td>\n",
       "      <td>64</td>\n",
       "      <td>0</td>\n",
       "      <td>0</td>\n",
       "      <td>23.3</td>\n",
       "      <td>0.672</td>\n",
       "      <td>32</td>\n",
       "      <td>1</td>\n",
       "    </tr>\n",
       "    <tr>\n",
       "      <th>3</th>\n",
       "      <td>1</td>\n",
       "      <td>89</td>\n",
       "      <td>66</td>\n",
       "      <td>23</td>\n",
       "      <td>94</td>\n",
       "      <td>28.1</td>\n",
       "      <td>0.167</td>\n",
       "      <td>21</td>\n",
       "      <td>0</td>\n",
       "    </tr>\n",
       "    <tr>\n",
       "      <th>4</th>\n",
       "      <td>0</td>\n",
       "      <td>137</td>\n",
       "      <td>40</td>\n",
       "      <td>35</td>\n",
       "      <td>168</td>\n",
       "      <td>43.1</td>\n",
       "      <td>2.288</td>\n",
       "      <td>33</td>\n",
       "      <td>1</td>\n",
       "    </tr>\n",
       "    <tr>\n",
       "      <th>...</th>\n",
       "      <td>...</td>\n",
       "      <td>...</td>\n",
       "      <td>...</td>\n",
       "      <td>...</td>\n",
       "      <td>...</td>\n",
       "      <td>...</td>\n",
       "      <td>...</td>\n",
       "      <td>...</td>\n",
       "      <td>...</td>\n",
       "    </tr>\n",
       "    <tr>\n",
       "      <th>763</th>\n",
       "      <td>10</td>\n",
       "      <td>101</td>\n",
       "      <td>76</td>\n",
       "      <td>48</td>\n",
       "      <td>180</td>\n",
       "      <td>32.9</td>\n",
       "      <td>0.171</td>\n",
       "      <td>63</td>\n",
       "      <td>0</td>\n",
       "    </tr>\n",
       "    <tr>\n",
       "      <th>764</th>\n",
       "      <td>2</td>\n",
       "      <td>122</td>\n",
       "      <td>70</td>\n",
       "      <td>27</td>\n",
       "      <td>0</td>\n",
       "      <td>36.8</td>\n",
       "      <td>0.340</td>\n",
       "      <td>27</td>\n",
       "      <td>0</td>\n",
       "    </tr>\n",
       "    <tr>\n",
       "      <th>765</th>\n",
       "      <td>5</td>\n",
       "      <td>121</td>\n",
       "      <td>72</td>\n",
       "      <td>23</td>\n",
       "      <td>112</td>\n",
       "      <td>26.2</td>\n",
       "      <td>0.245</td>\n",
       "      <td>30</td>\n",
       "      <td>0</td>\n",
       "    </tr>\n",
       "    <tr>\n",
       "      <th>766</th>\n",
       "      <td>1</td>\n",
       "      <td>126</td>\n",
       "      <td>60</td>\n",
       "      <td>0</td>\n",
       "      <td>0</td>\n",
       "      <td>30.1</td>\n",
       "      <td>0.349</td>\n",
       "      <td>47</td>\n",
       "      <td>1</td>\n",
       "    </tr>\n",
       "    <tr>\n",
       "      <th>767</th>\n",
       "      <td>1</td>\n",
       "      <td>93</td>\n",
       "      <td>70</td>\n",
       "      <td>31</td>\n",
       "      <td>0</td>\n",
       "      <td>30.4</td>\n",
       "      <td>0.315</td>\n",
       "      <td>23</td>\n",
       "      <td>0</td>\n",
       "    </tr>\n",
       "  </tbody>\n",
       "</table>\n",
       "<p>768 rows × 9 columns</p>\n",
       "</div>"
      ],
      "text/plain": [
       "     Pregnancies  Glucose  BloodPressure  SkinThickness  Insulin   BMI  \\\n",
       "0              6      148             72             35        0  33.6   \n",
       "1              1       85             66             29        0  26.6   \n",
       "2              8      183             64              0        0  23.3   \n",
       "3              1       89             66             23       94  28.1   \n",
       "4              0      137             40             35      168  43.1   \n",
       "..           ...      ...            ...            ...      ...   ...   \n",
       "763           10      101             76             48      180  32.9   \n",
       "764            2      122             70             27        0  36.8   \n",
       "765            5      121             72             23      112  26.2   \n",
       "766            1      126             60              0        0  30.1   \n",
       "767            1       93             70             31        0  30.4   \n",
       "\n",
       "     DiabetesPedigreeFunction  Age  Outcome  \n",
       "0                       0.627   50        1  \n",
       "1                       0.351   31        0  \n",
       "2                       0.672   32        1  \n",
       "3                       0.167   21        0  \n",
       "4                       2.288   33        1  \n",
       "..                        ...  ...      ...  \n",
       "763                     0.171   63        0  \n",
       "764                     0.340   27        0  \n",
       "765                     0.245   30        0  \n",
       "766                     0.349   47        1  \n",
       "767                     0.315   23        0  \n",
       "\n",
       "[768 rows x 9 columns]"
      ]
     },
     "execution_count": 2,
     "metadata": {},
     "output_type": "execute_result"
    }
   ],
   "source": [
    "dia = pd.read_csv('./diabetes.csv')\n",
    "df = dia.copy()\n",
    "df.dropna()\n"
   ]
  },
  {
   "cell_type": "code",
   "execution_count": 3,
   "metadata": {},
   "outputs": [
    {
     "name": "stdout",
     "output_type": "stream",
     "text": [
      "<class 'pandas.core.frame.DataFrame'>\n",
      "RangeIndex: 768 entries, 0 to 767\n",
      "Data columns (total 9 columns):\n",
      " #   Column                    Non-Null Count  Dtype  \n",
      "---  ------                    --------------  -----  \n",
      " 0   Pregnancies               768 non-null    int64  \n",
      " 1   Glucose                   768 non-null    int64  \n",
      " 2   BloodPressure             768 non-null    int64  \n",
      " 3   SkinThickness             768 non-null    int64  \n",
      " 4   Insulin                   768 non-null    int64  \n",
      " 5   BMI                       768 non-null    float64\n",
      " 6   DiabetesPedigreeFunction  768 non-null    float64\n",
      " 7   Age                       768 non-null    int64  \n",
      " 8   Outcome                   768 non-null    int64  \n",
      "dtypes: float64(2), int64(7)\n",
      "memory usage: 54.1 KB\n"
     ]
    }
   ],
   "source": [
    "df.info()"
   ]
  },
  {
   "cell_type": "code",
   "execution_count": 4,
   "metadata": {},
   "outputs": [
    {
     "data": {
      "text/html": [
       "<div>\n",
       "<style scoped>\n",
       "    .dataframe tbody tr th:only-of-type {\n",
       "        vertical-align: middle;\n",
       "    }\n",
       "\n",
       "    .dataframe tbody tr th {\n",
       "        vertical-align: top;\n",
       "    }\n",
       "\n",
       "    .dataframe thead th {\n",
       "        text-align: right;\n",
       "    }\n",
       "</style>\n",
       "<table border=\"1\" class=\"dataframe\">\n",
       "  <thead>\n",
       "    <tr style=\"text-align: right;\">\n",
       "      <th></th>\n",
       "      <th>count</th>\n",
       "      <th>mean</th>\n",
       "      <th>std</th>\n",
       "      <th>min</th>\n",
       "      <th>25%</th>\n",
       "      <th>50%</th>\n",
       "      <th>75%</th>\n",
       "      <th>max</th>\n",
       "    </tr>\n",
       "  </thead>\n",
       "  <tbody>\n",
       "    <tr>\n",
       "      <th>Pregnancies</th>\n",
       "      <td>768.0</td>\n",
       "      <td>3.845052</td>\n",
       "      <td>3.369578</td>\n",
       "      <td>0.000</td>\n",
       "      <td>1.00000</td>\n",
       "      <td>3.0000</td>\n",
       "      <td>6.00000</td>\n",
       "      <td>17.00</td>\n",
       "    </tr>\n",
       "    <tr>\n",
       "      <th>Glucose</th>\n",
       "      <td>768.0</td>\n",
       "      <td>120.894531</td>\n",
       "      <td>31.972618</td>\n",
       "      <td>0.000</td>\n",
       "      <td>99.00000</td>\n",
       "      <td>117.0000</td>\n",
       "      <td>140.25000</td>\n",
       "      <td>199.00</td>\n",
       "    </tr>\n",
       "    <tr>\n",
       "      <th>BloodPressure</th>\n",
       "      <td>768.0</td>\n",
       "      <td>69.105469</td>\n",
       "      <td>19.355807</td>\n",
       "      <td>0.000</td>\n",
       "      <td>62.00000</td>\n",
       "      <td>72.0000</td>\n",
       "      <td>80.00000</td>\n",
       "      <td>122.00</td>\n",
       "    </tr>\n",
       "    <tr>\n",
       "      <th>SkinThickness</th>\n",
       "      <td>768.0</td>\n",
       "      <td>20.536458</td>\n",
       "      <td>15.952218</td>\n",
       "      <td>0.000</td>\n",
       "      <td>0.00000</td>\n",
       "      <td>23.0000</td>\n",
       "      <td>32.00000</td>\n",
       "      <td>99.00</td>\n",
       "    </tr>\n",
       "    <tr>\n",
       "      <th>Insulin</th>\n",
       "      <td>768.0</td>\n",
       "      <td>79.799479</td>\n",
       "      <td>115.244002</td>\n",
       "      <td>0.000</td>\n",
       "      <td>0.00000</td>\n",
       "      <td>30.5000</td>\n",
       "      <td>127.25000</td>\n",
       "      <td>846.00</td>\n",
       "    </tr>\n",
       "    <tr>\n",
       "      <th>BMI</th>\n",
       "      <td>768.0</td>\n",
       "      <td>31.992578</td>\n",
       "      <td>7.884160</td>\n",
       "      <td>0.000</td>\n",
       "      <td>27.30000</td>\n",
       "      <td>32.0000</td>\n",
       "      <td>36.60000</td>\n",
       "      <td>67.10</td>\n",
       "    </tr>\n",
       "    <tr>\n",
       "      <th>DiabetesPedigreeFunction</th>\n",
       "      <td>768.0</td>\n",
       "      <td>0.471876</td>\n",
       "      <td>0.331329</td>\n",
       "      <td>0.078</td>\n",
       "      <td>0.24375</td>\n",
       "      <td>0.3725</td>\n",
       "      <td>0.62625</td>\n",
       "      <td>2.42</td>\n",
       "    </tr>\n",
       "    <tr>\n",
       "      <th>Age</th>\n",
       "      <td>768.0</td>\n",
       "      <td>33.240885</td>\n",
       "      <td>11.760232</td>\n",
       "      <td>21.000</td>\n",
       "      <td>24.00000</td>\n",
       "      <td>29.0000</td>\n",
       "      <td>41.00000</td>\n",
       "      <td>81.00</td>\n",
       "    </tr>\n",
       "    <tr>\n",
       "      <th>Outcome</th>\n",
       "      <td>768.0</td>\n",
       "      <td>0.348958</td>\n",
       "      <td>0.476951</td>\n",
       "      <td>0.000</td>\n",
       "      <td>0.00000</td>\n",
       "      <td>0.0000</td>\n",
       "      <td>1.00000</td>\n",
       "      <td>1.00</td>\n",
       "    </tr>\n",
       "  </tbody>\n",
       "</table>\n",
       "</div>"
      ],
      "text/plain": [
       "                          count        mean         std     min       25%  \\\n",
       "Pregnancies               768.0    3.845052    3.369578   0.000   1.00000   \n",
       "Glucose                   768.0  120.894531   31.972618   0.000  99.00000   \n",
       "BloodPressure             768.0   69.105469   19.355807   0.000  62.00000   \n",
       "SkinThickness             768.0   20.536458   15.952218   0.000   0.00000   \n",
       "Insulin                   768.0   79.799479  115.244002   0.000   0.00000   \n",
       "BMI                       768.0   31.992578    7.884160   0.000  27.30000   \n",
       "DiabetesPedigreeFunction  768.0    0.471876    0.331329   0.078   0.24375   \n",
       "Age                       768.0   33.240885   11.760232  21.000  24.00000   \n",
       "Outcome                   768.0    0.348958    0.476951   0.000   0.00000   \n",
       "\n",
       "                               50%        75%     max  \n",
       "Pregnancies                 3.0000    6.00000   17.00  \n",
       "Glucose                   117.0000  140.25000  199.00  \n",
       "BloodPressure              72.0000   80.00000  122.00  \n",
       "SkinThickness              23.0000   32.00000   99.00  \n",
       "Insulin                    30.5000  127.25000  846.00  \n",
       "BMI                        32.0000   36.60000   67.10  \n",
       "DiabetesPedigreeFunction    0.3725    0.62625    2.42  \n",
       "Age                        29.0000   41.00000   81.00  \n",
       "Outcome                     0.0000    1.00000    1.00  "
      ]
     },
     "execution_count": 4,
     "metadata": {},
     "output_type": "execute_result"
    }
   ],
   "source": [
    "df.describe().T"
   ]
  },
  {
   "cell_type": "code",
   "execution_count": 5,
   "metadata": {},
   "outputs": [],
   "source": [
    "Y = df[\"Outcome\"]"
   ]
  },
  {
   "cell_type": "code",
   "execution_count": 6,
   "metadata": {},
   "outputs": [],
   "source": [
    "X = df.drop([\"Outcome\"], axis = 1)"
   ]
  },
  {
   "cell_type": "markdown",
   "metadata": {},
   "source": [
    "### Modeling with Statsmodels"
   ]
  },
  {
   "cell_type": "code",
   "execution_count": 8,
   "metadata": {},
   "outputs": [
    {
     "name": "stdout",
     "output_type": "stream",
     "text": [
      "Optimization terminated successfully.\n",
      "         Current function value: 0.608498\n",
      "         Iterations 5\n"
     ]
    },
    {
     "data": {
      "text/html": [
       "<table class=\"simpletable\">\n",
       "<caption>Logit Regression Results</caption>\n",
       "<tr>\n",
       "  <th>Dep. Variable:</th>        <td>Outcome</td>     <th>  No. Observations:  </th>  <td>   768</td>  \n",
       "</tr>\n",
       "<tr>\n",
       "  <th>Model:</th>                 <td>Logit</td>      <th>  Df Residuals:      </th>  <td>   760</td>  \n",
       "</tr>\n",
       "<tr>\n",
       "  <th>Method:</th>                 <td>MLE</td>       <th>  Df Model:          </th>  <td>     7</td>  \n",
       "</tr>\n",
       "<tr>\n",
       "  <th>Date:</th>            <td>Thu, 02 May 2024</td> <th>  Pseudo R-squ.:     </th>  <td>0.05922</td> \n",
       "</tr>\n",
       "<tr>\n",
       "  <th>Time:</th>                <td>18:37:40</td>     <th>  Log-Likelihood:    </th> <td> -467.33</td> \n",
       "</tr>\n",
       "<tr>\n",
       "  <th>converged:</th>             <td>True</td>       <th>  LL-Null:           </th> <td> -496.74</td> \n",
       "</tr>\n",
       "<tr>\n",
       "  <th>Covariance Type:</th>     <td>nonrobust</td>    <th>  LLR p-value:       </th> <td>2.583e-10</td>\n",
       "</tr>\n",
       "</table>\n",
       "<table class=\"simpletable\">\n",
       "<tr>\n",
       "              <td></td>                <th>coef</th>     <th>std err</th>      <th>z</th>      <th>P>|z|</th>  <th>[0.025</th>    <th>0.975]</th>  \n",
       "</tr>\n",
       "<tr>\n",
       "  <th>Pregnancies</th>              <td>    0.1284</td> <td>    0.029</td> <td>    4.484</td> <td> 0.000</td> <td>    0.072</td> <td>    0.185</td>\n",
       "</tr>\n",
       "<tr>\n",
       "  <th>Glucose</th>                  <td>    0.0129</td> <td>    0.003</td> <td>    4.757</td> <td> 0.000</td> <td>    0.008</td> <td>    0.018</td>\n",
       "</tr>\n",
       "<tr>\n",
       "  <th>BloodPressure</th>            <td>   -0.0303</td> <td>    0.005</td> <td>   -6.481</td> <td> 0.000</td> <td>   -0.039</td> <td>   -0.021</td>\n",
       "</tr>\n",
       "<tr>\n",
       "  <th>SkinThickness</th>            <td>    0.0002</td> <td>    0.006</td> <td>    0.032</td> <td> 0.974</td> <td>   -0.012</td> <td>    0.012</td>\n",
       "</tr>\n",
       "<tr>\n",
       "  <th>Insulin</th>                  <td>    0.0007</td> <td>    0.001</td> <td>    0.942</td> <td> 0.346</td> <td>   -0.001</td> <td>    0.002</td>\n",
       "</tr>\n",
       "<tr>\n",
       "  <th>BMI</th>                      <td>   -0.0048</td> <td>    0.011</td> <td>   -0.449</td> <td> 0.653</td> <td>   -0.026</td> <td>    0.016</td>\n",
       "</tr>\n",
       "<tr>\n",
       "  <th>DiabetesPedigreeFunction</th> <td>    0.3203</td> <td>    0.240</td> <td>    1.335</td> <td> 0.182</td> <td>   -0.150</td> <td>    0.790</td>\n",
       "</tr>\n",
       "<tr>\n",
       "  <th>Age</th>                      <td>   -0.0156</td> <td>    0.008</td> <td>   -1.852</td> <td> 0.064</td> <td>   -0.032</td> <td>    0.001</td>\n",
       "</tr>\n",
       "</table>"
      ],
      "text/latex": [
       "\\begin{center}\n",
       "\\begin{tabular}{lclc}\n",
       "\\toprule\n",
       "\\textbf{Dep. Variable:}           &     Outcome      & \\textbf{  No. Observations:  } &      768    \\\\\n",
       "\\textbf{Model:}                   &      Logit       & \\textbf{  Df Residuals:      } &      760    \\\\\n",
       "\\textbf{Method:}                  &       MLE        & \\textbf{  Df Model:          } &        7    \\\\\n",
       "\\textbf{Date:}                    & Thu, 02 May 2024 & \\textbf{  Pseudo R-squ.:     } &  0.05922    \\\\\n",
       "\\textbf{Time:}                    &     18:37:40     & \\textbf{  Log-Likelihood:    } &   -467.33   \\\\\n",
       "\\textbf{converged:}               &       True       & \\textbf{  LL-Null:           } &   -496.74   \\\\\n",
       "\\textbf{Covariance Type:}         &    nonrobust     & \\textbf{  LLR p-value:       } & 2.583e-10   \\\\\n",
       "\\bottomrule\n",
       "\\end{tabular}\n",
       "\\begin{tabular}{lcccccc}\n",
       "                                  & \\textbf{coef} & \\textbf{std err} & \\textbf{z} & \\textbf{P$> |$z$|$} & \\textbf{[0.025} & \\textbf{0.975]}  \\\\\n",
       "\\midrule\n",
       "\\textbf{Pregnancies}              &       0.1284  &        0.029     &     4.484  &         0.000        &        0.072    &        0.185     \\\\\n",
       "\\textbf{Glucose}                  &       0.0129  &        0.003     &     4.757  &         0.000        &        0.008    &        0.018     \\\\\n",
       "\\textbf{BloodPressure}            &      -0.0303  &        0.005     &    -6.481  &         0.000        &       -0.039    &       -0.021     \\\\\n",
       "\\textbf{SkinThickness}            &       0.0002  &        0.006     &     0.032  &         0.974        &       -0.012    &        0.012     \\\\\n",
       "\\textbf{Insulin}                  &       0.0007  &        0.001     &     0.942  &         0.346        &       -0.001    &        0.002     \\\\\n",
       "\\textbf{BMI}                      &      -0.0048  &        0.011     &    -0.449  &         0.653        &       -0.026    &        0.016     \\\\\n",
       "\\textbf{DiabetesPedigreeFunction} &       0.3203  &        0.240     &     1.335  &         0.182        &       -0.150    &        0.790     \\\\\n",
       "\\textbf{Age}                      &      -0.0156  &        0.008     &    -1.852  &         0.064        &       -0.032    &        0.001     \\\\\n",
       "\\bottomrule\n",
       "\\end{tabular}\n",
       "%\\caption{Logit Regression Results}\n",
       "\\end{center}"
      ],
      "text/plain": [
       "<class 'statsmodels.iolib.summary.Summary'>\n",
       "\"\"\"\n",
       "                           Logit Regression Results                           \n",
       "==============================================================================\n",
       "Dep. Variable:                Outcome   No. Observations:                  768\n",
       "Model:                          Logit   Df Residuals:                      760\n",
       "Method:                           MLE   Df Model:                            7\n",
       "Date:                Thu, 02 May 2024   Pseudo R-squ.:                 0.05922\n",
       "Time:                        18:37:40   Log-Likelihood:                -467.33\n",
       "converged:                       True   LL-Null:                       -496.74\n",
       "Covariance Type:            nonrobust   LLR p-value:                 2.583e-10\n",
       "============================================================================================\n",
       "                               coef    std err          z      P>|z|      [0.025      0.975]\n",
       "--------------------------------------------------------------------------------------------\n",
       "Pregnancies                  0.1284      0.029      4.484      0.000       0.072       0.185\n",
       "Glucose                      0.0129      0.003      4.757      0.000       0.008       0.018\n",
       "BloodPressure               -0.0303      0.005     -6.481      0.000      -0.039      -0.021\n",
       "SkinThickness                0.0002      0.006      0.032      0.974      -0.012       0.012\n",
       "Insulin                      0.0007      0.001      0.942      0.346      -0.001       0.002\n",
       "BMI                         -0.0048      0.011     -0.449      0.653      -0.026       0.016\n",
       "DiabetesPedigreeFunction     0.3203      0.240      1.335      0.182      -0.150       0.790\n",
       "Age                         -0.0156      0.008     -1.852      0.064      -0.032       0.001\n",
       "============================================================================================\n",
       "\"\"\""
      ]
     },
     "execution_count": 8,
     "metadata": {},
     "output_type": "execute_result"
    }
   ],
   "source": [
    "loj = sm.Logit(Y, X)\n",
    "loj_model = loj.fit()\n",
    "loj_model.summary()"
   ]
  },
  {
   "cell_type": "markdown",
   "metadata": {},
   "source": [
    "## Modeling with Scikit-learn"
   ]
  },
  {
   "cell_type": "code",
   "execution_count": 10,
   "metadata": {},
   "outputs": [],
   "source": [
    "from sklearn.linear_model import LogisticRegression\n",
    "loj = LogisticRegression(solver = \"liblinear\")\n",
    "loj_model = loj.fit(X, Y)"
   ]
  },
  {
   "cell_type": "code",
   "execution_count": 13,
   "metadata": {},
   "outputs": [
    {
     "data": {
      "text/plain": [
       "array([-5.89224562])"
      ]
     },
     "execution_count": 13,
     "metadata": {},
     "output_type": "execute_result"
    }
   ],
   "source": [
    "loj_model.intercept_ #modelin sabit katsayısı"
   ]
  },
  {
   "cell_type": "code",
   "execution_count": 14,
   "metadata": {},
   "outputs": [
    {
     "data": {
      "text/plain": [
       "array([[ 1.17057741e-01,  2.83885308e-02, -1.68876773e-02,\n",
       "         7.55872388e-04, -6.42915371e-04,  5.97708045e-02,\n",
       "         6.77538983e-01,  7.24146587e-03]])"
      ]
     },
     "execution_count": 14,
     "metadata": {},
     "output_type": "execute_result"
    }
   ],
   "source": [
    "loj_model.coef_ #bütün bağımsız değişkenlerin katsayı değerlerini görüyoruz.regresyon katsayıları"
   ]
  },
  {
   "cell_type": "markdown",
   "metadata": {},
   "source": [
    "# LR için Tahmin ve Model Tuning İşlemleri"
   ]
  },
  {
   "cell_type": "code",
   "execution_count": 15,
   "metadata": {},
   "outputs": [],
   "source": [
    "y_pred = loj_model.predict(X)"
   ]
  },
  {
   "cell_type": "code",
   "execution_count": 17,
   "metadata": {},
   "outputs": [
    {
     "data": {
      "text/plain": [
       "array([[448,  52],\n",
       "       [121, 147]])"
      ]
     },
     "execution_count": 17,
     "metadata": {},
     "output_type": "execute_result"
    }
   ],
   "source": [
    "conf_matrix = confusion_matrix(Y, y_pred)\n",
    "conf_matrix"
   ]
  },
  {
   "cell_type": "markdown",
   "metadata": {},
   "source": [
    "### Yukıardaki oluşan conf_matrix şu şekilde yorumlanmalı;\n",
    "#### 1-1 hesaplananların sayısı 448\n",
    "#### 1-0 hesaplananların sayısı 52\n",
    "#### 0-1 hesaplananların sayısı 121\n",
    "#### 0-0 hesaplananların sayısı 147\n"
   ]
  },
  {
   "cell_type": "code",
   "execution_count": 18,
   "metadata": {},
   "outputs": [
    {
     "data": {
      "text/plain": [
       "0.7747395833333334"
      ]
     },
     "execution_count": 18,
     "metadata": {},
     "output_type": "execute_result"
    }
   ],
   "source": [
    "accuracy_score(Y, y_pred=y_pred)"
   ]
  },
  {
   "cell_type": "code",
   "execution_count": 19,
   "metadata": {},
   "outputs": [
    {
     "name": "stdout",
     "output_type": "stream",
     "text": [
      "              precision    recall  f1-score   support\n",
      "\n",
      "           0       0.79      0.90      0.84       500\n",
      "           1       0.74      0.55      0.63       268\n",
      "\n",
      "    accuracy                           0.77       768\n",
      "   macro avg       0.76      0.72      0.73       768\n",
      "weighted avg       0.77      0.77      0.77       768\n",
      "\n"
     ]
    }
   ],
   "source": [
    "print(classification_report(Y, y_pred))"
   ]
  },
  {
   "cell_type": "markdown",
   "metadata": {},
   "source": [
    "## Aşağıda görüldüğü üzere ilk 10 tahmin değerimizi aldık fakat genel olarak sınıflandırma problemlerinde ilerleyiş biçimimiz şu şekilde olmalı her bir yapıya özel olasılık değerlerini inceleyelim bir eşik belirleyip ona göre 1 ya da 0 demek en mantıklısı olacaktır."
   ]
  },
  {
   "cell_type": "code",
   "execution_count": 22,
   "metadata": {},
   "outputs": [
    {
     "data": {
      "text/plain": [
       "array([1, 0, 1, 0, 1, 0, 0, 1, 1, 0])"
      ]
     },
     "execution_count": 22,
     "metadata": {},
     "output_type": "execute_result"
    }
   ],
   "source": [
    "loj_model.predict(X)[0:10]"
   ]
  },
  {
   "cell_type": "code",
   "execution_count": 21,
   "metadata": {},
   "outputs": [
    {
     "data": {
      "text/plain": [
       "array([[0.35038771, 0.64961229],\n",
       "       [0.91702719, 0.08297281],\n",
       "       [0.22474964, 0.77525036],\n",
       "       [0.92139583, 0.07860417],\n",
       "       [0.16725317, 0.83274683],\n",
       "       [0.79899318, 0.20100682],\n",
       "       [0.88020119, 0.11979881],\n",
       "       [0.27813832, 0.72186168],\n",
       "       [0.32059416, 0.67940584],\n",
       "       [0.9227425 , 0.0772575 ]])"
      ]
     },
     "execution_count": 21,
     "metadata": {},
     "output_type": "execute_result"
    }
   ],
   "source": [
    "loj_model.predict_proba(X)[0:10]"
   ]
  },
  {
   "cell_type": "markdown",
   "metadata": {},
   "source": [
    "## Yukarıdaki model çıktısının ilk sütunu bize 0 sınıfına ait olma olasılığını verir.\n",
    "## diğer sütun ise 1 sınıfına ait olma olasılığını verir."
   ]
  },
  {
   "cell_type": "code",
   "execution_count": 23,
   "metadata": {},
   "outputs": [
    {
     "data": {
      "text/plain": [
       "0    1\n",
       "1    0\n",
       "2    1\n",
       "3    0\n",
       "4    1\n",
       "5    0\n",
       "6    1\n",
       "7    0\n",
       "8    1\n",
       "9    1\n",
       "Name: Outcome, dtype: int64"
      ]
     },
     "execution_count": 23,
     "metadata": {},
     "output_type": "execute_result"
    }
   ],
   "source": [
    "Y[0:10]"
   ]
  },
  {
   "cell_type": "markdown",
   "metadata": {},
   "source": [
    "## gerçek değerler ile tahmin edilen değerler ve bunların yanında sınıflar özelinde oluşturulan olasılık değerleri karşılaştırınca daha anlamlı bir hale geliyor. mantıken gerçekte 1 olan bir değeri benim modelim 1 olarak tahmin ederse predict_proba fonksiyonunda 2.sütun yani 1 lerin sınıfının değeri yüksek olmasını bekleriz."
   ]
  },
  {
   "cell_type": "code",
   "execution_count": 26,
   "metadata": {},
   "outputs": [
    {
     "data": {
      "text/plain": [
       "array([0.64961229, 0.08297281, 0.77525036, 0.07860417, 0.83274683,\n",
       "       0.20100682, 0.11979881, 0.72186168, 0.67940584, 0.0772575 ,\n",
       "       0.2208179 , 0.84280595, 0.70727986, 0.63331638, 0.59883054,\n",
       "       0.52966302, 0.32344249, 0.24616702, 0.393791  , 0.25474316,\n",
       "       0.36613641, 0.30511892, 0.87574814, 0.33995364, 0.62892482,\n",
       "       0.47131796, 0.65865122, 0.08796007, 0.55239836, 0.26943829,\n",
       "       0.37675209, 0.54950064, 0.09741887, 0.06835461, 0.44284242,\n",
       "       0.21690709, 0.63458828, 0.38972658, 0.19778257, 0.49461025,\n",
       "       0.70392168, 0.60505097, 0.14929916, 0.83411117, 0.61932844,\n",
       "       0.8915405 , 0.44797772, 0.07080818, 0.39063966, 0.15295616,\n",
       "       0.06945765, 0.14516718, 0.11764772, 0.75105066, 0.6786081 ,\n",
       "       0.05494963, 0.83805662, 0.29083649, 0.69290364, 0.21491497,\n",
       "       0.05139503, 0.50894662, 0.04963173, 0.3714847 , 0.37479354,\n",
       "       0.16477073, 0.18780862, 0.35396089, 0.06731866, 0.330113  ,\n",
       "       0.22794316, 0.41845392, 0.72706231, 0.27854635, 0.08046024,\n",
       "       0.00784368, 0.10720202, 0.24946884, 0.68567242, 0.15439966,\n",
       "       0.18643152, 0.03459102, 0.1782606 , 0.09019241, 0.52421941,\n",
       "       0.22469577, 0.52439885, 0.21663029, 0.75553129, 0.1189826 ,\n",
       "       0.04905895, 0.283731  , 0.30598479, 0.31192118, 0.290023  ,\n",
       "       0.51115357, 0.12768056, 0.04706645, 0.21594754, 0.37302169,\n",
       "       0.73773172, 0.34047669, 0.09191555, 0.06018282, 0.24044354,\n",
       "       0.30798764, 0.03120274, 0.46039103, 0.15530014, 0.11320028,\n",
       "       0.58287749, 0.69678412, 0.08559318, 0.13760092, 0.72569442,\n",
       "       0.45979116, 0.35892671, 0.22014239, 0.17928429, 0.09720972,\n",
       "       0.78183051, 0.3327024 , 0.18796582, 0.33555994, 0.16485656,\n",
       "       0.49905056, 0.42725871, 0.24893694, 0.19938739, 0.15298454,\n",
       "       0.61452874, 0.65995181, 0.64748865, 0.28574732, 0.09840623,\n",
       "       0.29041836, 0.13581177, 0.11200335, 0.26308841, 0.22915853,\n",
       "       0.20043878, 0.30364774, 0.2361583 , 0.41452569, 0.50730949,\n",
       "       0.02398187, 0.09786278, 0.31820468, 0.54527395, 0.08137545,\n",
       "       0.35943077, 0.19531937, 0.7718754 , 0.49053067, 0.91143219,\n",
       "       0.78021533, 0.15175581, 0.18842141, 0.08459291, 0.94296566,\n",
       "       0.40289135, 0.31505037, 0.22900106, 0.15366956, 0.26200608,\n",
       "       0.26881583, 0.46009844, 0.33850754, 0.27288168, 0.15341834,\n",
       "       0.18916146, 0.51473267, 0.32326828, 0.21099924, 0.08610325,\n",
       "       0.82640598, 0.1589178 , 0.56916753, 0.64431258, 0.56253644,\n",
       "       0.08349442, 0.28975098, 0.00659885, 0.09373185, 0.36209851,\n",
       "       0.90506157, 0.80113803, 0.31949718, 0.29671403, 0.38367216,\n",
       "       0.13730222, 0.49130641, 0.66006209, 0.95413621, 0.16773454,\n",
       "       0.61973998, 0.11479449, 0.17123601, 0.36368827, 0.43505399,\n",
       "       0.19370285, 0.38156977, 0.1732401 , 0.07784945, 0.329909  ,\n",
       "       0.18988184, 0.90298924, 0.56657497, 0.13776778, 0.80476041,\n",
       "       0.08930778, 0.46811724, 0.7344998 , 0.48314991, 0.34269487,\n",
       "       0.85186602, 0.34468121, 0.37638059, 0.20872916, 0.37543877,\n",
       "       0.68575185, 0.55465075, 0.55506522, 0.61691091, 0.11655388,\n",
       "       0.08891335, 0.13561258, 0.74028648, 0.92646404, 0.26958923,\n",
       "       0.59412796, 0.5766439 , 0.05647082, 0.36817713, 0.07898747,\n",
       "       0.7913922 , 0.81022546, 0.72253217, 0.74077569, 0.07353111,\n",
       "       0.09734876, 0.16585738, 0.36698209, 0.49979544, 0.45537392,\n",
       "       0.87330033, 0.48248836, 0.60864219, 0.45486534, 0.11925578,\n",
       "       0.43014847, 0.20537196, 0.06428139, 0.10978683, 0.38042961,\n",
       "       0.25098493, 0.28650039, 0.1687127 , 0.68913157, 0.84725971,\n",
       "       0.72236954, 0.72431377, 0.20133653, 0.42036313, 0.34073501,\n",
       "       0.29616499, 0.73267408, 0.55900747, 0.10251303, 0.62143955,\n",
       "       0.62048542, 0.12943089, 0.17387227, 0.06626099, 0.51183077,\n",
       "       0.28124242, 0.25648925, 0.12542193, 0.28593552, 0.17625182,\n",
       "       0.44144862, 0.55419069, 0.37999423, 0.57799476, 0.14463284,\n",
       "       0.45832023, 0.58329307, 0.38266483, 0.11907651, 0.2895157 ,\n",
       "       0.07473119, 0.26017421, 0.5526018 , 0.49176784, 0.44662781,\n",
       "       0.68772327, 0.31295234, 0.18405941, 0.49216122, 0.35607239,\n",
       "       0.82706038, 0.43639613, 0.11889887, 0.4523882 , 0.28845808,\n",
       "       0.3002864 , 0.67226022, 0.18172954, 0.36314588, 0.34969104,\n",
       "       0.12611415, 0.23002148, 0.38280279, 0.29812832, 0.47867985,\n",
       "       0.22602495, 0.07234507, 0.65536695, 0.29528601, 0.7149402 ,\n",
       "       0.3341772 , 0.2001592 , 0.18715854, 0.69835813, 0.20836018,\n",
       "       0.30175119, 0.33522445, 0.84279044, 0.21541206, 0.22807086,\n",
       "       0.47661016, 0.12552295, 0.91764637, 0.26749989, 0.0869683 ,\n",
       "       0.64651145, 0.5985811 , 0.28702647, 0.7237271 , 0.81271862,\n",
       "       0.21461614, 0.10965356, 0.01033783, 0.3129433 , 0.36961928,\n",
       "       0.49632533, 0.41892917, 0.36583299, 0.10616346, 0.02458282,\n",
       "       0.21919276, 0.33169741, 0.06791722, 0.10975   , 0.22788102,\n",
       "       0.67606516, 0.42477149, 0.91707867, 0.37053481, 0.79528954,\n",
       "       0.77963098, 0.5924074 , 0.23894361, 0.6323116 , 0.47353262,\n",
       "       0.2987869 , 0.31504815, 0.07481551, 0.06215556, 0.20652384,\n",
       "       0.83846032, 0.08801198, 0.12421581, 0.21967954, 0.44457107,\n",
       "       0.74007689, 0.06479694, 0.16641595, 0.73456947, 0.1949095 ,\n",
       "       0.19582819, 0.07388044, 0.18344436, 0.14789854, 0.15734253,\n",
       "       0.15635179, 0.35196086, 0.3633923 , 0.46792963, 0.24034856,\n",
       "       0.16282216, 0.78236199, 0.17348487, 0.18374896, 0.61754551,\n",
       "       0.4328623 , 0.19601867, 0.28588561, 0.06359061, 0.77021636,\n",
       "       0.17340562, 0.40521643, 0.41312496, 0.14938285, 0.6761933 ,\n",
       "       0.4995267 , 0.25730792, 0.08671908, 0.88334538, 0.69777873,\n",
       "       0.27062756, 0.21296092, 0.52660354, 0.25041712, 0.38063499,\n",
       "       0.53487216, 0.16424095, 0.56163468, 0.05410682, 0.25299788,\n",
       "       0.32696035, 0.11036531, 0.23541572, 0.23516445, 0.74598113,\n",
       "       0.72081405, 0.0536954 , 0.67367834, 0.28940113, 0.11934293,\n",
       "       0.21737566, 0.13690908, 0.07766137, 0.24500805, 0.1339567 ,\n",
       "       0.72982154, 0.68438133, 0.4709182 , 0.05453666, 0.32699231,\n",
       "       0.59327801, 0.11809859, 0.28371878, 0.41024997, 0.29098182,\n",
       "       0.96477494, 0.11635617, 0.12153402, 0.17936245, 0.17395943,\n",
       "       0.05393575, 0.31538807, 0.14880031, 0.49417796, 0.26756593,\n",
       "       0.89257416, 0.41475316, 0.14028918, 0.77558036, 0.5370093 ,\n",
       "       0.35894872, 0.04593518, 0.23713595, 0.11806163, 0.32326102,\n",
       "       0.16601524, 0.06404142, 0.18704539, 0.65546054, 0.75832291,\n",
       "       0.51019043, 0.28955494, 0.27802358, 0.39164836, 0.21721131,\n",
       "       0.23403384, 0.1960571 , 0.22879647, 0.33009175, 0.33359874,\n",
       "       0.54546563, 0.1960457 , 0.1263491 , 0.08773049, 0.82013994,\n",
       "       0.40426236, 0.44870033, 0.82348825, 0.13187022, 0.8346706 ,\n",
       "       0.16502342, 0.106742  , 0.19224393, 0.42700803, 0.04775285,\n",
       "       0.63337446, 0.20367946, 0.09437546, 0.77232256, 0.60694978,\n",
       "       0.11737944, 0.14918307, 0.03966785, 0.32525338, 0.19416521,\n",
       "       0.17747025, 0.57625592, 0.29744857, 0.17881555, 0.34715657,\n",
       "       0.27172911, 0.1821003 , 0.19753612, 0.12184786, 0.13294086,\n",
       "       0.53079079, 0.60547952, 0.46158921, 0.30008613, 0.22241542,\n",
       "       0.04204399, 0.25898979, 0.16283638, 0.61808515, 0.30850234,\n",
       "       0.08988634, 0.0630805 , 0.14987332, 0.19022782, 0.15488435,\n",
       "       0.30232397, 0.311754  , 0.24030555, 0.43500965, 0.17703827,\n",
       "       0.65946284, 0.1001515 , 0.04710327, 0.29650721, 0.39365113,\n",
       "       0.41086162, 0.32685419, 0.37110664, 0.12695271, 0.09524538,\n",
       "       0.78634241, 0.90854024, 0.34192018, 0.50969011, 0.63165745,\n",
       "       0.15250565, 0.13445616, 0.24364382, 0.10962685, 0.14179164,\n",
       "       0.27950657, 0.17781997, 0.29436063, 0.58715187, 0.23407203,\n",
       "       0.39376302, 0.81359572, 0.14372596, 0.22500173, 0.10710982,\n",
       "       0.1553792 , 0.19291762, 0.20122658, 0.51014558, 0.22643048,\n",
       "       0.10899961, 0.12961504, 0.23859566, 0.1699329 , 0.31271982,\n",
       "       0.34245407, 0.33255153, 0.38378229, 0.48653972, 0.85064986,\n",
       "       0.45737628, 0.22113942, 0.46293072, 0.34200095, 0.37069649,\n",
       "       0.09230914, 0.61289395, 0.1751835 , 0.74495552, 0.10470898,\n",
       "       0.71260089, 0.2313447 , 0.37808376, 0.22616522, 0.43125467,\n",
       "       0.61909556, 0.10895013, 0.18798132, 0.60365184, 0.17633594,\n",
       "       0.10751484, 0.32815564, 0.17786782, 0.6841567 , 0.86679444,\n",
       "       0.35343774, 0.78444465, 0.07277656, 0.43821023, 0.11068848,\n",
       "       0.21232364, 0.71907605, 0.75801244, 0.3071995 , 0.70839054,\n",
       "       0.1335482 , 0.18990641, 0.03796124, 0.47261639, 0.42357657,\n",
       "       0.20793133, 0.18019076, 0.89772142, 0.18661133, 0.17180089,\n",
       "       0.16168784, 0.15134912, 0.2483782 , 0.36987858, 0.10833356,\n",
       "       0.36877589, 0.12517188, 0.17431934, 0.14803171, 0.21904145,\n",
       "       0.45538892, 0.19285187, 0.14101751, 0.40843337, 0.06080897,\n",
       "       0.11047304, 0.36744535, 0.46956633, 0.3640844 , 0.17247083,\n",
       "       0.48894124, 0.39573783, 0.73043571, 0.48809146, 0.1176971 ,\n",
       "       0.0896563 , 0.27165372, 0.34053256, 0.25773323, 0.15263451,\n",
       "       0.54833442, 0.09669956, 0.40068906, 0.50993562, 0.17346161,\n",
       "       0.65219723, 0.90814042, 0.63455845, 0.7035692 , 0.39196308,\n",
       "       0.16844446, 0.48246067, 0.33106296, 0.29951962, 0.61257612,\n",
       "       0.74041896, 0.13089407, 0.12563153, 0.57798783, 0.32317009,\n",
       "       0.81112902, 0.53978875, 0.14231011, 0.36230209, 0.13023524,\n",
       "       0.03950049, 0.70056264, 0.22424384, 0.32362001, 0.13037806,\n",
       "       0.31174157, 0.23530228, 0.17602901, 0.27318527, 0.54054415,\n",
       "       0.27434663, 0.77043246, 0.41623399, 0.57629664, 0.08306886,\n",
       "       0.34595239, 0.53347766, 0.22152846, 0.3260507 , 0.55089035,\n",
       "       0.28392678, 0.36636939, 0.64830505, 0.69169131, 0.159634  ,\n",
       "       0.17638181, 0.2567546 , 0.33304423, 0.70814224, 0.2170432 ,\n",
       "       0.46581355, 0.3352215 , 0.72255187, 0.21906474, 0.1396521 ,\n",
       "       0.88042261, 0.70378674, 0.25614737, 0.22700184, 0.2581095 ,\n",
       "       0.09166514, 0.24421526, 0.38662968, 0.33817746, 0.14860221,\n",
       "       0.32268528, 0.22822879, 0.28923255, 0.39476851, 0.13347254,\n",
       "       0.26140831, 0.27503709, 0.73447798, 0.18257008, 0.14331431,\n",
       "       0.23056772, 0.15634891, 0.15633872, 0.21343627, 0.22000477,\n",
       "       0.68789414, 0.24350063, 0.15314626, 0.58076427, 0.87317595,\n",
       "       0.34232366, 0.55632355, 0.27103801, 0.76607464, 0.57373652,\n",
       "       0.5199146 , 0.27590798, 0.16550334, 0.59678861, 0.66498495,\n",
       "       0.37681575, 0.44707099, 0.29001162, 0.18447643, 0.80820855,\n",
       "       0.1475106 , 0.87819153, 0.15720664, 0.33652874, 0.32497317,\n",
       "       0.23267947, 0.30246599, 0.10941321])"
      ]
     },
     "execution_count": 26,
     "metadata": {},
     "output_type": "execute_result"
    }
   ],
   "source": [
    "y_probs = loj_model.predict_proba(X)\n",
    "y_probs = y_probs[:,1]\n",
    "y_probs"
   ]
  },
  {
   "cell_type": "code",
   "execution_count": 27,
   "metadata": {},
   "outputs": [],
   "source": [
    "y_pred = [1 if i > 0.5 else 0 for i in y_probs]"
   ]
  },
  {
   "cell_type": "code",
   "execution_count": 28,
   "metadata": {},
   "outputs": [
    {
     "data": {
      "text/plain": [
       "[1, 0, 1, 0, 1, 0, 0, 1, 1, 0]"
      ]
     },
     "execution_count": 28,
     "metadata": {},
     "output_type": "execute_result"
    }
   ],
   "source": [
    "y_pred[0:10]"
   ]
  },
  {
   "cell_type": "code",
   "execution_count": 29,
   "metadata": {},
   "outputs": [
    {
     "data": {
      "text/plain": [
       "array([[448,  52],\n",
       "       [121, 147]])"
      ]
     },
     "execution_count": 29,
     "metadata": {},
     "output_type": "execute_result"
    }
   ],
   "source": [
    "conf_matrix = confusion_matrix(Y, y_pred)\n",
    "conf_matrix"
   ]
  },
  {
   "cell_type": "code",
   "execution_count": 30,
   "metadata": {},
   "outputs": [
    {
     "data": {
      "text/plain": [
       "0.7747395833333334"
      ]
     },
     "execution_count": 30,
     "metadata": {},
     "output_type": "execute_result"
    }
   ],
   "source": [
    "accuracy_score(Y, y_pred=y_pred)"
   ]
  },
  {
   "cell_type": "code",
   "execution_count": 31,
   "metadata": {},
   "outputs": [
    {
     "name": "stdout",
     "output_type": "stream",
     "text": [
      "              precision    recall  f1-score   support\n",
      "\n",
      "           0       0.79      0.90      0.84       500\n",
      "           1       0.74      0.55      0.63       268\n",
      "\n",
      "    accuracy                           0.77       768\n",
      "   macro avg       0.76      0.72      0.73       768\n",
      "weighted avg       0.77      0.77      0.77       768\n",
      "\n"
     ]
    }
   ],
   "source": [
    "print(classification_report(Y, y_pred))"
   ]
  },
  {
   "cell_type": "markdown",
   "metadata": {},
   "source": [
    "# ROC Eğrisi Oluşturma"
   ]
  },
  {
   "cell_type": "code",
   "execution_count": 33,
   "metadata": {},
   "outputs": [
    {
     "data": {
      "image/png": "[encoded data removed]",
      "text/plain": [
       "<Figure size 640x480 with 1 Axes>"
      ]
     },
     "metadata": {},
     "output_type": "display_data"
    }
   ],
   "source": [
    "logit_roc_auc = roc_auc_score(Y, loj_model.predict(X))\n",
    "\n",
    "false_positive_rate, true_positive_rate, thresholds_rate = roc_curve(Y, loj_model.predict_proba(X)[:,1])\n",
    "plt.figure()\n",
    "plt.plot(false_positive_rate, true_positive_rate, label='AUC (area = %0.2f)' % logit_roc_auc)\n",
    "plt.plot([0, 1], [0, 1],'r--')\n",
    "plt.xlim([0.0, 1.0])\n",
    "plt.ylim([0.0, 1.05])\n",
    "plt.xlabel('False Positive Oranı')\n",
    "plt.ylabel('True Positive Oranı')\n",
    "plt.title('ROC')\n",
    "plt.show()"
   ]
  },
  {
   "cell_type": "code",
   "execution_count": 34,
   "metadata": {},
   "outputs": [],
   "source": [
    "X_train, X_test, Y_train, Y_test = train_test_split(X,\n",
    "                                                    Y,\n",
    "                                                    test_size=.25,\n",
    "                                                    random_state=42)"
   ]
  },
  {
   "cell_type": "code",
   "execution_count": 39,
   "metadata": {},
   "outputs": [],
   "source": [
    "loj_model = LogisticRegression(solver='liblinear')\n",
    "loj_model = loj_model.fit(X_train, Y_train)"
   ]
  },
  {
   "cell_type": "markdown",
   "metadata": {},
   "source": [
    "## Test Hatamızı Değerlendirelim"
   ]
  },
  {
   "cell_type": "code",
   "execution_count": 43,
   "metadata": {},
   "outputs": [
    {
     "name": "stdout",
     "output_type": "stream",
     "text": [
      "Test seti için Doğruluk Değerimiz: 0.7447916666666666\n"
     ]
    }
   ],
   "source": [
    "# Test Hatamızı Değerlendirelim\n",
    "acc_score = accuracy_score(Y_test, loj_model.predict(X_test))\n",
    "print(\"Test seti için Doğruluk Değerimiz:\",acc_score)"
   ]
  },
  {
   "cell_type": "markdown",
   "metadata": {},
   "source": [
    "## Test Seti için En Doğrulanmış Skora Yani Cross-Val-Score'a Erişmek İstersek;"
   ]
  },
  {
   "cell_type": "code",
   "execution_count": 48,
   "metadata": {},
   "outputs": [
    {
     "name": "stdout",
     "output_type": "stream",
     "text": [
      "Test için en güvenli doğrulama skorundan alınan değer: 0.7397368421052632\n"
     ]
    }
   ],
   "source": [
    "print(\"Test için en güvenli doğrulama skorundan alınan değer:\",cross_val_score(loj_model, X_test, Y_test, cv = 10).mean())"
   ]
  },
  {
   "cell_type": "code",
   "execution_count": null,
   "metadata": {},
   "outputs": [],
   "source": []
  }
 ],
 "metadata": {
  "kernelspec": {
   "display_name": "statsenv",
   "language": "python",
   "name": "python3"
  },
  "language_info": {
   "codemirror_mode": {
    "name": "ipython",
    "version": 3
   },
   "file_extension": ".py",
   "mimetype": "text/x-python",
   "name": "python",
   "nbconvert_exporter": "python",
   "pygments_lexer": "ipython3",
   "version": "3.11.9"
  }
 },
 "nbformat": 4,
 "nbformat_minor": 2
}
